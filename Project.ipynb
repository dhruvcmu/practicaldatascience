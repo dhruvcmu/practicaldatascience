{
 "cells": [
  {
   "cell_type": "markdown",
   "metadata": {},
   "source": [
    "# Data Science Project - NYC GeoData\n",
    "## Midterm report\n",
    "\n",
    "## Team Members:\n",
    "### Dhruv Anand (danand), Abhik Mondal (abhikm)\n",
    "\n",
    "The objective of this project is to try and glean interesting observations from a geographical datasets relating to NYC. Information from different datasets will be combined to answer interesting connections about the behavior of people in New York."
   ]
  },
  {
   "cell_type": "code",
   "execution_count": 1,
   "metadata": {
    "collapsed": false,
    "scrolled": true
   },
   "outputs": [
    {
     "name": "stderr",
     "output_type": "stream",
     "text": [
      "/Users/dhruv/anaconda/lib/python2.7/site-packages/matplotlib/__init__.py:1350: UserWarning:  This call to matplotlib.use() has no effect\n",
      "because the backend has already been chosen;\n",
      "matplotlib.use() must be called *before* pylab, matplotlib.pyplot,\n",
      "or matplotlib.backends is imported for the first time.\n",
      "\n",
      "  warnings.warn(_use_error_msg)\n"
     ]
    }
   ],
   "source": [
    "import geopandas as gpd\n",
    "import pandas as pd\n",
    "import shapely\n",
    "from shapely.geometry import Polygon,Point\n",
    "from geopy.geocoders import GoogleV3\n",
    "import rtree\n",
    "import numpy as np\n",
    "import re\n",
    "import seaborn as sns\n",
    "import matplotlib\n",
    "matplotlib.use(\"svg\")\n",
    "%matplotlib inline\n",
    "import matplotlib.pyplot as plt\n",
    "plt.style.use(\"ggplot\")"
   ]
  },
  {
   "cell_type": "code",
   "execution_count": 2,
   "metadata": {
    "collapsed": false
   },
   "outputs": [],
   "source": [
    "boros = gpd.GeoDataFrame.from_file('nybb_16d/nybb.shp').to_crs({'init': 'epsg:4326'})\n",
    "zips = gpd.GeoDataFrame.from_file('ZIP_CODE_040114/ZIP_CODE_040114.shp').to_crs({'init': 'epsg:4326'})\n",
    "non_decimal = re.compile(r'[^\\s\\d.-]+')\n",
    "subways = pd.read_csv('DOITT_SUBWAY_ENTRANCE_01_13SEPT2010.csv')\n",
    "subways['geometry'] = subways['the_geom'].apply(lambda z: Point(map(float,non_decimal.sub('', z).strip().split(' '))))\n",
    "subways = gpd.GeoDataFrame(subways)\n",
    "uber = pd.read_csv('uber-tlc-foil-response-master/uber-trip-data/uber-raw-data-apr14.csv')\n",
    "uber['geometry'] = [Point(xy) for xy in zip(uber.Lon, uber.Lat)]\n",
    "uber = gpd.GeoDataFrame(uber)\n",
    "uber.crs = {'init': 'epsg:4326'}\n",
    "fhv = pd.read_csv('../fhv_tripdata_2016-01.csv')"
   ]
  },
  {
   "cell_type": "code",
   "execution_count": 3,
   "metadata": {
    "collapsed": false
   },
   "outputs": [
    {
     "name": "stdout",
     "output_type": "stream",
     "text": [
      "   BoroCode       BoroName    Shape_Area     Shape_Leng  \\\n",
      "0         5  Staten Island  1.623819e+09  330476.026530   \n",
      "1         2          Bronx  1.186816e+09  464081.177750   \n",
      "2         1      Manhattan  6.364540e+08  358410.655945   \n",
      "3         3       Brooklyn  1.937484e+09  741039.196851   \n",
      "4         4         Queens  3.044830e+09  895715.765066   \n",
      "\n",
      "                                            geometry  \n",
      "0  (POLYGON ((-74.05050806403248 40.5664220341941...  \n",
      "1  (POLYGON ((-73.89680883223768 40.7958084451931...  \n",
      "2  (POLYGON ((-74.01092841268033 40.6844914725762...  \n",
      "3  (POLYGON ((-73.86706149472113 40.5820879768267...  \n",
      "4  (POLYGON ((-73.83668274106698 40.5949466970491...  \n"
     ]
    }
   ],
   "source": [
    "print boros.head()"
   ]
  },
  {
   "cell_type": "code",
   "execution_count": null,
   "metadata": {
    "collapsed": false
   },
   "outputs": [],
   "source": [
    "uber = uber[:1000]\n",
    "uber.plot()\n",
    "def create_dataframe(fn,Lat,Lon,lim=1000000):\n",
    "    df = pd.read_csv(fn,nrows=lim)\n",
    "    df=df[df[Lon]!=0.0]\n",
    "    df['geometry'] = [Point(xy) for xy in zip(df[Lon], df[Lat])]\n",
    "    df = gpd.GeoDataFrame(df)\n",
    "#     df.crs = {'init':'epsg:4326'}\n",
    "    df =  \n",
    "    #df= gpd.sjoin(df,boros, how =\"inner\", op=\"intersects\")\n",
    "    return df\n",
    "\n",
    "uber = create_dataframe('uber-tlc-foil-response-master/uber-trip-data/uber-raw-data-apr14.csv','Lon','Lat')\n",
    "# taxi = create_dataframe('trip_data_1_cut2.csv','pickup_longitude','pickup_latitude',1000)\n",
    "\n",
    "def removeExternalTrips(df,boros):\n",
    "    return gpd.sjoin(df, boros, how=\"inner\", op='intersects')\n",
    "withinBoros = removeExternalTrips(df,boros)\n",
    "withinBoros.head()\n",
    "base = boros.plot()\n",
    "withinBoros.plot(ax=base)\n",
    "# boro_boundary.plot()\n",
    "# uber[uber.geometry.within(boro_boundary)].plot()\n",
    "# type(boros.unary_union)\n",
    "# print fhv.head()\n",
    "# print uber.head()\n",
    "# len(sorted(fhv['Dispatching_base_num'].value_counts(dropna=False).keys()))\n"
   ]
  },
  {
   "cell_type": "code",
   "execution_count": 4,
   "metadata": {
    "collapsed": false
   },
   "outputs": [
    {
     "data": {
      "text/plain": [
       "<matplotlib.axes._subplots.AxesSubplot at 0x119567450>"
      ]
     },
     "execution_count": 4,
     "metadata": {},
     "output_type": "execute_result"
    },
    {
     "data": {
      "image/png": "[encoded data removed]",
      "text/plain": [
       "<matplotlib.figure.Figure at 0x11955ed50>"
      ]
     },
     "metadata": {},
     "output_type": "display_data"
    }
   ],
   "source": [
    "# print withinBoros.head()\n",
    "# plt.figure(15,1)\n",
    "base = boros.plot()\n",
    "# zips.plot(ax=base);\n",
    "# circles= subways.buffer(0.005)\n",
    "# mp = circles.unary_union\n",
    "# boros['geometry'].intersection(mp)\n",
    "# circles.plot(ax=base)\n",
    "# uber[:100].loc[boros.contains(uber[:100])].plot()\n",
    "\n",
    "# uber[:100][uber[:100].within(boros)]\n",
    "uber[:1000].plot(ax=base, color='red',markersize=2.9)\n",
    "# subways.plot(ax=base, color='red',markersize=0.1);"
   ]
  },
  {
   "cell_type": "code",
   "execution_count": 5,
   "metadata": {
    "collapsed": false
   },
   "outputs": [
    {
     "data": {
      "text/plain": [
       "564516"
      ]
     },
     "execution_count": 5,
     "metadata": {},
     "output_type": "execute_result"
    }
   ],
   "source": [
    "len(uber)"
   ]
  },
  {
   "cell_type": "code",
   "execution_count": 6,
   "metadata": {
    "collapsed": false
   },
   "outputs": [
    {
     "name": "stdout",
     "output_type": "stream",
     "text": [
      "{'init': 'epsg:4326'}\n"
     ]
    }
   ],
   "source": [
    "print uber.crs"
   ]
  },
  {
   "cell_type": "code",
   "execution_count": null,
   "metadata": {
    "collapsed": true
   },
   "outputs": [],
   "source": []
  }
 ],
 "metadata": {
  "anaconda-cloud": {},
  "kernelspec": {
   "display_name": "Python [Root]",
   "language": "python",
   "name": "Python [Root]"
  },
  "language_info": {
   "codemirror_mode": {
    "name": "ipython",
    "version": 2
   },
   "file_extension": ".py",
   "mimetype": "text/x-python",
   "name": "python",
   "nbconvert_exporter": "python",
   "pygments_lexer": "ipython2",
   "version": "2.7.12"
  }
 },
 "nbformat": 4,
 "nbformat_minor": 0
}
