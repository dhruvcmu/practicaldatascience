{
 "cells": [
  {
   "cell_type": "markdown",
   "metadata": {},
   "source": [
    "# Statistical Description of Data"
   ]
  },
  {
   "cell_type": "code",
   "execution_count": 1,
   "metadata": {
    "collapsed": false
   },
   "outputs": [
    {
     "name": "stdout",
     "output_type": "stream",
     "text": [
      "3!= 6.0 = e^(ln[gamma(4)]) = 6\n",
      "120.0\n",
      "4.03291461127e+26\n",
      "24.0\n",
      "0.994376487882\n",
      "0.00562351211827\n",
      "1.0\n",
      "0.112754082424\n",
      "0.520357177501\n",
      "0.842681743299\n",
      "0.999999999998\n",
      "-0.112754082424\n",
      "-0.520357177501\n",
      "-0.842681743299\n",
      "-0.999999999998\n"
     ]
    }
   ],
   "source": [
    "#import the python file of Distribution Functions\n",
    "import scic_dist_functions as scic_dist"
   ]
  },
  {
   "cell_type": "code",
   "execution_count": 2,
   "metadata": {
    "collapsed": false
   },
   "outputs": [],
   "source": [
    "# quick test that I can create objects\n",
    "my_ksdist = scic_dist.KSdist()"
   ]
  },
  {
   "cell_type": "code",
   "execution_count": 3,
   "metadata": {
    "collapsed": false
   },
   "outputs": [
    {
     "name": "stdout",
     "output_type": "stream",
     "text": [
      "36.4981663726\n",
      "0.999329074744\n"
     ]
    }
   ],
   "source": [
    "print my_ksdist.pks(1.0)\n",
    "print my_ksdist.pks(2.0)"
   ]
  },
  {
   "cell_type": "markdown",
   "metadata": {},
   "source": [
    "## Student's t-Test for Significantly different Means"
   ]
  },
  {
   "cell_type": "code",
   "execution_count": 12,
   "metadata": {
    "collapsed": false
   },
   "outputs": [],
   "source": [
    "def ttest(data1, data2):\n",
    "    \"\"\"Given the arrays data1[0..n1-1] and data2[0..n2-1], returns an array of Student's t as t\n",
    "    and its p-value as prob, small values of prob indicating that the arrays have significantly \n",
    "    different means. The data arrays are assumed to be drawn from populations with the same\n",
    "    true variance.\n",
    "    \n",
    "    The p-value is a number between 0 and 1. It is the probability that |t| could be this large\n",
    "    or larger just by chance, for distributions with equal means.\n",
    "    \"\"\"\n",
    "    beta = Beta()\n",
    "    t = 0.0\n",
    "    prob = 0.0\n",
    "    \n",
    "    n1=len(data1)\n",
    "    n2=len(data2)\n",
    "    [ave1,var1] = avevar(data1)\n",
    "    [ave2,var2] = avevar(data2)\n",
    "    df=n1+n2-2\n",
    "    svar=((n1-1)*var1+(n2-1)*var2)/df\n",
    "    t = (ave1-ave2)/math.sqrt(svar*(1.0/n1+1.0/n2))\n",
    "    prob = beta.betai(0.5*df,0.5,df/(df+t*t))\n",
    "    \n",
    "    return [t,prob]"
   ]
  },
  {
   "cell_type": "code",
   "execution_count": 13,
   "metadata": {
    "collapsed": false
   },
   "outputs": [],
   "source": [
    "def avevar(data):\n",
    "    \"\"\"Given array data[0..n-1], returns its mean as ave and its variance as var in an array.\n",
    "    \"\"\"\n",
    "    s=ep=0.0\n",
    "    n=len(data)\n",
    "    ave=0.0\n",
    "    var=0.0\n",
    "    \n",
    "    for j in xrange(0,n): ave += data[j]\n",
    "    ave /= n\n",
    "    \n",
    "    for j in xrange(0,n):\n",
    "        s=data[j] - ave\n",
    "        ep += s\n",
    "        var += s*s\n",
    "        \n",
    "    var = (var-ep*ep/n)/(n-1)\n",
    "    return [ave,var]"
   ]
  },
  {
   "cell_type": "code",
   "execution_count": 14,
   "metadata": {
    "collapsed": false
   },
   "outputs": [],
   "source": [
    "def tutest(data1,data2):\n",
    "    \"\"\" Given the arrays data1[0..n1-1] and data2[0..n2-1], returns an array of Student's t as t\n",
    "    and its p-value as prob, small values of prob indicating that the arrays have significantly \n",
    "    different means. The data arrays are allowed to be drawn from populations with unequal variances.\n",
    "    \"\"\"\n",
    "    beta = Beta()\n",
    "    n1=len(data1)\n",
    "    n2=len(data2)\n",
    "    [ave1,var1] = avevar(data1)\n",
    "    [ave2,var2] = avevar(data2)\n",
    "    t=(ave1-ave2)/math.sqrt(var1/n1 + var2/n2)\n",
    "    df = ((var1/n1+var2/n2)**2)/(((var1/n1)**2)/(n1-1) + ((var2/n2)**2)/(n2-1))\n",
    "    prob = beta.betai(0.5*df,0.5,df/(df+(t**2)))\n",
    "    \n",
    "    return [t,prob]"
   ]
  },
  {
   "cell_type": "code",
   "execution_count": 15,
   "metadata": {
    "collapsed": false
   },
   "outputs": [],
   "source": [
    "def tptest(data1,data2):\n",
    "    \"\"\"Given paired arrays data1[0..n1-1] and data2[0..n2-1], this routine returns Student's t\n",
    "    for paired data as t, and its p-value, small values of prob indicating a significant\n",
    "    difference of means.\n",
    "    \"\"\"\n",
    "    cov=0.0\n",
    "    beta = Beta()\n",
    "    n=len(data1)\n",
    "    [ave1,var1] = avevar(data1)\n",
    "    [ave1,var2] = avevar(data2)\n",
    "    for j in xrange(0,n): cov += (data1[j]-ave1)*(data2[j]-ave2)\n",
    "    df = n-1\n",
    "    cov /= df\n",
    "    sd = math.sqrt((var1+var2-2.0*cov)/n)\n",
    "    t = (ave1-ave2)/sd\n",
    "    prob = beta.betai(0.5*df,0.5,df/(df+t*t))\n",
    "    \n",
    "    return [t,prob]"
   ]
  },
  {
   "cell_type": "markdown",
   "metadata": {},
   "source": [
    "## F-Test for Significantly Different Variances"
   ]
  },
  {
   "cell_type": "code",
   "execution_count": 16,
   "metadata": {
    "collapsed": false
   },
   "outputs": [],
   "source": [
    "def ftest(data1,data2):\n",
    "    \"\"\"Given the arrays data1[0..n1-1] and data2[0..n2-1], this routine returns the value of f,\n",
    "    and its p-value as prob. Small values of prob indicate that the two arrays have significantly\n",
    "    different variances.\n",
    "    \"\"\"\n",
    "    beta = Beta()\n",
    "    f=df1=df2=0.0\n",
    "    n1=len(data1)\n",
    "    n2=len(data2)\n",
    "    [ave1,var1] = avevar(data1)\n",
    "    [ave1,var2] = avevar(data2)\n",
    "    if(var1 > var2 ):\n",
    "        f = var1/var2\n",
    "        df1 = n1-1\n",
    "        df2 = n2-1\n",
    "    else:\n",
    "        f = var2/var1\n",
    "        df1 = n2-1\n",
    "        df2 = n1-1\n",
    "    prob = 2.0*beta.betai(0.5*df2, 0.5*df1, df2/(df2+df1*f))\n",
    "    if(prob > 1.0): prob = 2.0 - prob\n",
    "    \n",
    "    return [f,prob]"
   ]
  },
  {
   "cell_type": "markdown",
   "metadata": {},
   "source": [
    "## Chi-Square Test"
   ]
  },
  {
   "cell_type": "code",
   "execution_count": 17,
   "metadata": {
    "collapsed": false
   },
   "outputs": [],
   "source": [
    "def chsone(bins,ebins, knstrn=1):\n",
    "    \"\"\"Given the array bins[0..nbins-1] containing the observed numbers of events, and an array \n",
    "    ebins[0..nbins-1] containing the expected numbers of events, and given the number of\n",
    "    constraints knstrn (normally one), this routine returns (trivially) the number of degrees of \n",
    "    freedom df, and (nontrivially) the chi-square chsq and the p-value prob, all as an array. A \n",
    "    small value of prob indicates a significant difference between the distributions bins and \n",
    "    ebins. Note that bins and ebins are both double arrays, although bins will normally contain \n",
    "    integer values.\n",
    "    \"\"\"\n",
    "    gam = Gamma()\n",
    "    nbins = len(bins)\n",
    "    df=nbins-knstrn\n",
    "    chsq=prob=0.0\n",
    "    for j in xrange(0,nbins):\n",
    "        if(ebins[j]<0.0 or (ebins[j]==0.0 and bins[j]>0.0)):\n",
    "            raise Exception(\"bad expected number in chsone\")\n",
    "        if(ebins[j]==0.0 and bins[j]==0.0):\n",
    "            df -= 1\n",
    "        else:\n",
    "            temp = bins[j]-ebins[j]\n",
    "            chsq += temp*temp/ebins[j]\n",
    "    prob = gam.gammq(0.5*df,0.5*chsq)\n",
    "    \n",
    "    return [df, chsq, prob]"
   ]
  },
  {
   "cell_type": "code",
   "execution_count": 20,
   "metadata": {
    "collapsed": false
   },
   "outputs": [],
   "source": [
    "def chstwo(bins1, bins2, knstrn=1):\n",
    "    \"\"\"Given the array bins1[0..nbins-1] and bins2[0..nbins-1], containing two sets of binned\n",
    "    data, and given the number of constraints knstrn (normally 1 or 0), this routine returns the\n",
    "    number of degrees of freedom df, the chi-square chsq, and the p-value prob, all as an array.\n",
    "    A small value of prob inidcates a significant difference between the distributions bins1 and\n",
    "    bins2. Note that bins1 and bins2 are both double arrays, although they will normally contain\n",
    "    integer values.\n",
    "    \"\"\"\n",
    "    gam = Gamma()\n",
    "    nbins = len(bins)\n",
    "    df=nbins-knstrn\n",
    "    chsq=prob=0.0\n",
    "    for j in xrange(0,nbins):\n",
    "        if(bins1[j]==0.0 and bins2[j]==0.0):\n",
    "            df -= 1\n",
    "        else:\n",
    "            temp = bins1[j]-bins2[j]\n",
    "            chsq += temp*temp/(bins1[j]+bins2[j])\n",
    "    prob=gam.gammq(0.5*df, 0.5*chsq)\n",
    "    \n",
    "    return [df, chsq, prob]"
   ]
  },
  {
   "cell_type": "markdown",
   "metadata": {},
   "source": [
    "## Kolmogorov-Smirnov Test"
   ]
  },
  {
   "cell_type": "code",
   "execution_count": 25,
   "metadata": {
    "collapsed": false
   },
   "outputs": [],
   "source": [
    "def ksone( data, func ):\n",
    "    \"\"\"Given an array data[0..n-1], and given a user-supplied function of a single variable func \n",
    "    that is a cumulative distribution function ranging from 0 (for smallest values of its argument) \n",
    "    to 1(for largest values of its argument), this routine returns the K-S statistic d and the p-value\n",
    "    prob, all as an array. Small values of prob show that the cumulative distribution function of data\n",
    "    is significantly different from func. The array data is modified by being sort into ascedning order.\n",
    "    \"\"\"\n",
    "    n = len(data)\n",
    "    fo = 0.0\n",
    "    ks = KSdist()\n",
    "    data.sort()\n",
    "    en=n\n",
    "    d=0.0\n",
    "    for j in xrange(0,n):\n",
    "        fn=(j+1)/en\n",
    "        ff=func(data[j])\n",
    "        dt=max(abs(fo-ff),abs(fn-ff))\n",
    "        if(dt>d): d=dt\n",
    "        fo=fn\n",
    "    en=math.sqrt(en)\n",
    "    prob=ks.qks((en+0.12+0.11/en)*d)\n",
    "    \n",
    "    return [d,prob]"
   ]
  },
  {
   "cell_type": "code",
   "execution_count": 26,
   "metadata": {
    "collapsed": false
   },
   "outputs": [],
   "source": [
    "def kstwo(data1, data2):\n",
    "    \"\"\"Given an array data1[0..n1-1], and an array data2[0..n2-1], this routine returns the K-S\n",
    "    statistic d and the p-vale prob for the null hypothesis that the data sets are drawn from the\n",
    "    same distribution. Small values of prob show that the cumulative distribution function of data1\n",
    "    is significantly different from the that of data2. The arrays data1 and data2 are modified by being\n",
    "    sorted into ascending order.\n",
    "    \"\"\"\n",
    "    j1=j2=0\n",
    "    n1=len(data1)\n",
    "    n2=len(data2)\n",
    "    fn1=fn2=0.0\n",
    "    ks = KSdist()\n",
    "    data1.sort()\n",
    "    data2.sort()\n",
    "    en1=n1\n",
    "    en2=n2\n",
    "    d=0.0\n",
    "    while(j1<n1 and j2<n2):\n",
    "        d1=data1[j1]\n",
    "        d2=data2[j2]\n",
    "        if(d1<=d2):\n",
    "            j1 += 1\n",
    "            fn1 = j1/en1\n",
    "            while(j1<n1 and d1==data1[j1]):\n",
    "                j1 += 1\n",
    "                fn1 = j1/en1\n",
    "        if(d2<=d1):\n",
    "            j2 += 1\n",
    "            fn2 = j2/en2\n",
    "            while(j2<n2 and d2==data2[j2]):\n",
    "                j2 += 1\n",
    "                fn2 = j2/en2\n",
    "        dt=abs(fn2-fn1)\n",
    "        if(dt>d): d = dt\n",
    "    en=math.sqrt(en1*en2/(en1+en2))\n",
    "    prob=ks.qks((en+0.12+0.11/en)*d)\n",
    "    \n",
    "    return [d,prob]"
   ]
  },
  {
   "cell_type": "markdown",
   "metadata": {},
   "source": [
    "## Measure of Association Based on Chi-Sqaure"
   ]
  },
  {
   "cell_type": "code",
   "execution_count": 40,
   "metadata": {
    "collapsed": false
   },
   "outputs": [],
   "source": [
    "def cntab(nn):\n",
    "    \"\"\"Given a two-dimensional contingency table in the form of an array nn[0..ni-1][0..nj-1] of\n",
    "    integers, this routine returns the chi-square chisq, the number of degrees of freedom df, the\n",
    "    p-value prob (small values indicating a significant association), and two measures of association,\n",
    "    Cramer's V (cramrv) and the contingency coefficient C (ccc), all as an array.\n",
    "    \"\"\"\n",
    "    TINY = 1.0e-30\n",
    "    gam = Gamma()\n",
    "    i=j=nnj=nni=minij=0\n",
    "    ni = len(nn)\n",
    "    nj = len(nn[1])\n",
    "    excptd=temp=sm = 0.0\n",
    "    sumi = range(0,ni)*0.0\n",
    "    sumj = range(0,nj)*0.0\n",
    "    nni=ni\n",
    "    nnj=nj\n",
    "    for i in xrange(0,ni):\n",
    "        sumi[i]=0.0\n",
    "        for j in xrange(0,nj):\n",
    "            sumi[i] += nn[i][j]\n",
    "            sm += nn[i][j]\n",
    "        if( sumi[i] == 0.0 ): nni -= 1\n",
    "    for j in xrange(0,nj):\n",
    "        sumj[j]=0.0\n",
    "        for i in xrange(0,ni): sumj[j] += nn[i][j]\n",
    "        if( sumj[j] == 0.0): nnj -= 1\n",
    "    df=nni*nnj-nni-nnj+1\n",
    "    chisq=0.0\n",
    "    for i in xrange(0,ni):\n",
    "        for j in xrange(0,nj):\n",
    "            expctd = sumj[j]*sumi[i]/sm\n",
    "            temp=nn[i][j]-expcted\n",
    "            chisq += temp*temp/(expctd+TINY)\n",
    "    prob = gam.gammq(0.5*df,0.5*chisq)\n",
    "    if( nni < nnj ): minij = nni - 1\n",
    "    else: minij = nnj - 1\n",
    "    cramrv=math.sqrt(chisq/(sm*minij))\n",
    "    ccc=math.sqrt(chisq/(chisq+sm))"
   ]
  },
  {
   "cell_type": "markdown",
   "metadata": {},
   "source": [
    "## Linear Correlation"
   ]
  },
  {
   "cell_type": "code",
   "execution_count": 42,
   "metadata": {
    "collapsed": false
   },
   "outputs": [],
   "source": [
    "def pearsn(x,y):\n",
    "    \"\"\"Given two arrays x[0..n-1] and y[0..n-1], this routine computes their correclation coefficient r \n",
    "    (returned as r), the p-value at which the null hypothesis of zero correlation is disproved (prob \n",
    "    whose small value indicates a significant correlation), and Fisher's z (return as z). whose value\n",
    "    van be used in further statistical tests. r, prob and z are returned as an array.\n",
    "    \"\"\"\n",
    "    TINY = 1.0e-20\n",
    "    beta = Beta()\n",
    "    n=len(x)\n",
    "    yt=xt=t=df=syy=sxy=sxx=ay=ax=0.0\n",
    "    for j in xrange(0,n):\n",
    "        ax += x[j]\n",
    "        ay += y[j]\n",
    "    ax /= n\n",
    "    ay /= n\n",
    "    for j in xrange(0,n):\n",
    "        xt=x[j]-ax\n",
    "        yt=y[j]-ay\n",
    "        sxx += xt*xt\n",
    "        syy += yt*yt\n",
    "        sxy += xt*yt\n",
    "    r = sxy/(math.sqrt(sxx*syy)+TINY)\n",
    "    z = 0.5*math.log((1.0+r+TINY)/(1.0-r+TINY))\n",
    "    df = n-2\n",
    "    t = r*math.sqrt(df/((1.0-r+TINY)*(1.0+r+TINY)))\n",
    "    prob = beta.betai(0.5*df, 0.5, df/(df+t*t))\n",
    "    \n",
    "    return [r,prob,z]"
   ]
  },
  {
   "cell_type": "markdown",
   "metadata": {},
   "source": [
    "## Nonparametric Correlation"
   ]
  },
  {
   "cell_type": "markdown",
   "metadata": {},
   "source": [
    "### Spearman Rank-Order Correlation Coefficient"
   ]
  },
  {
   "cell_type": "code",
   "execution_count": 67,
   "metadata": {
    "collapsed": false
   },
   "outputs": [],
   "source": [
    "def spear(data1, data2):\n",
    "    \"\"\"Given two data arrays, data1[0..n-1] and data2[0..n-1], this routine returns their sum \n",
    "    squared difference of ranks as d, the number of standard deviations by which d deviates from\n",
    "    its null-hypothesis expected value as zd, the two-sided p-value of this deviation as probd,\n",
    "    Spearman's rank correlation r_s as rs, and the two sided p-value of its deviation from 0 as\n",
    "    probrs, all as an array. The external routines  crank and sort2 are used. A small value of either\n",
    "    probd or probrs indicates a significant correlation (rs positive) or anticorrelation (rs negative).\n",
    "    \"\"\"\n",
    "    d=zd=probd=rs=probrs=0.0\n",
    "    bet = Beta()\n",
    "    n = len(data1)\n",
    "    vard=t=sg=sf=fac=en3n=en=df=aved\n",
    "    wksp1 = range(n)*0.0\n",
    "    wksp2 = range(n)*0.0\n",
    "    [wksp1,wksp2] = sort2(data1,data2)\n",
    "    [wksp1, sf ] = crank(wksp1)\n",
    "    [wksp2, wksp1] = sort2(wksp2, wksp1)\n",
    "    [wksp2, sg ] = crank(wksp2)\n",
    "    d=0.0\n",
    "    for j in xrange(n):\n",
    "        d += (wksp1[j]-wksp2[j])**2\n",
    "    en = n\n",
    "    en3n = en*en*en-en\n",
    "    aved = en3n/6.0-(sf+sg)/12.0\n",
    "    fac=(1.0-sf/en3n)*(1.0-sg/en3n)\n",
    "    vard = ((en-1.0)*en*en*((en+1.0)**2)/36.0)*fac\n",
    "    zd = (d-aved)/math.sqrt(vard)\n",
    "    probd = erfcc(abs(zd)/1.4142136)\n",
    "    rs=(1.0-(6.0/en3n)*(d+(sf+sg)/12.0))/math.sqrt(fac)\n",
    "    fac=(rs+1.0)*(1.0-rs)\n",
    "    if(fac > 0.0):\n",
    "        t = rs*math.sqrt((en-2.0)/fac)\n",
    "        df = en-2.0\n",
    "        probrs = bet.betai(0.5*df,0.5,df/(df*t*t))\n",
    "    else:\n",
    "        probrs=0.0\n",
    "        \n",
    "    return [d,zd,probd,rs,probrs]"
   ]
  },
  {
   "cell_type": "code",
   "execution_count": 68,
   "metadata": {
    "collapsed": false
   },
   "outputs": [],
   "source": [
    "def sort2(data1,data2):\n",
    "    \"\"\"Sort an array data1[0..n-1] into ascending order, while making the corresponding \n",
    "    rearrangement of the array data2[0..n-1].\n",
    "    \"\"\"\n",
    "    n = len(data1)\n",
    "    srt = sorted(range(n), key=data1.__getitem__)\n",
    "    wksp1 = range(n)*0.0\n",
    "    wksp2 = range(n)*0.0\n",
    "    i = 0\n",
    "    for j in srt:\n",
    "        wksp1[i] = data1[j]\n",
    "        wksp2[i] = data2[j]\n",
    "    return [ wksp1, wksp2 ]"
   ]
  },
  {
   "cell_type": "code",
   "execution_count": 70,
   "metadata": {
    "collapsed": false
   },
   "outputs": [],
   "source": [
    "def crank(wdata):\n",
    "    \"\"\"Given a sorted array w[0..n-1], replaces the elements by their rank, including midranking\n",
    "    of ties, and returns as s the sum of f^3 - f, where f is the number of elements in each tie.\n",
    "    \"\"\"\n",
    "    j=1\n",
    "    ji=jt=0\n",
    "    w = list(wdata)\n",
    "    n=len(w)\n",
    "    t=rank=s=0.0\n",
    "    while(j<n):\n",
    "        if( not (w[j] == w[j-1])):\n",
    "            w[j-1] = j\n",
    "            j += 1\n",
    "        else:\n",
    "            jt = j+1\n",
    "            while(jt<=n and w[jt-1]==w[j-1]):\n",
    "                jt += 1\n",
    "            rank = 0.5*(j+jt+1)\n",
    "            for ji in xrange(j,(jt)):\n",
    "                w[ji-1]=rank\n",
    "            t = jt-j\n",
    "            s += (t*t*t-t)\n",
    "            j = jt\n",
    "    if(j==n): w[n-1]=n\n",
    "        \n",
    "    return [w,s]"
   ]
  },
  {
   "cell_type": "markdown",
   "metadata": {},
   "source": [
    "## Kendall's Tau"
   ]
  },
  {
   "cell_type": "code",
   "execution_count": 72,
   "metadata": {
    "collapsed": false
   },
   "outputs": [],
   "source": [
    "def kendl1(data1, data2, tau):\n",
    "    \"\"\"Given data arrays data1[0..n-1] and data2[0..n-1], this program return Kendall's tau as\n",
    "    tau, its number of standard deviations frmo zero as z, and its two side p-value as prob. Small\n",
    "    values of prob indicate a significant correlation (tau positive) or anitcorrelation( tau \n",
    "    negative).\n",
    "    \"\"\"\n",
    "    tau=z=prob=0.0\n",
    "    iss=n2=n1=0\n",
    "    n = len(data1)\n",
    "    for j in xrange(n-1):\n",
    "        for k in xrange(j+1,n):\n",
    "            a1 = data1[j]-data1[k]\n",
    "            a2 = data2[j]-data2[k]\n",
    "            aa=a1*a2\n",
    "            if( not aa == 0.0 ):\n",
    "                n1 += 1\n",
    "                n2 += 2\n",
    "                if( aa > 0.0): iss += 1\n",
    "                else: iss -= 1\n",
    "            else:\n",
    "                if( not a1 == 0.0): n1 += 1\n",
    "                if( not a2 == 0.0): n2 += 1\n",
    "    tau = iss/( math.sqrt(n1)*math.sqrt(n2))\n",
    "    svar=(4.0*n+10.0)/(9.0*n*(n-1.0))\n",
    "    z=tau/math.sqrt(svar)\n",
    "    prob=erfcc(abs(z)/1.4142136)\n",
    "    \n",
    "    return [tau,z,prob]"
   ]
  },
  {
   "cell_type": "code",
   "execution_count": 73,
   "metadata": {
    "collapsed": false
   },
   "outputs": [],
   "source": [
    "def kendl2(tab):\n",
    "    \"\"\"Given a two-dimensional table tab[0..i-1][0..j-1], such that tab[k][l] contains the \n",
    "    number of events falling in bin k of on variable and bin l of another, this program returns\n",
    "    Kendall's tau as tau, its number of standard deviations from zero as z, and its two-sided\n",
    "    p-value as prob, all as an array. Small values of prob indicate a significant correlation\n",
    "    (tau positive) or anticorrelation (tau negative) between the two variables. Although tab\n",
    "    is a double array, it will normally contain integral values.\n",
    "    \"\"\"\n",
    "    tau=z=prob=0.0\n",
    "    s=en1=en2=points=svar=0.0\n",
    "    i = len(tab)\n",
    "    j = len(tab[1])\n",
    "    nn = i*j\n",
    "    points=tab[i-1][j-1]\n",
    "    for k in xrange(nn-1):\n",
    "        ki=(k/j)\n",
    "        kj=k-j*ki\n",
    "        points += tab[ki][kj]\n",
    "        for l in xrange(k+1,nn):\n",
    "            li=l/j\n",
    "            lj=l-j*li\n",
    "            m1=li-ki\n",
    "            m2=lj-kj\n",
    "            mm=m1*m2\n",
    "            pairs=tab[ki][kj]*tab[li][lj]\n",
    "            if( not mm == 0):\n",
    "                en1 += pairs\n",
    "                en2 += pairs\n",
    "                if( mm > 0): s += pairs\n",
    "                else: s -= pairs\n",
    "            else:\n",
    "                if( not m1 == 0): en1 += pairs\n",
    "                if( not m2 == 0): en2 += pairs\n",
    "    tau=s/math.sqrt(en1*en2)\n",
    "    svar=(4.0*points+10.0)/(9.0*points*(points-1.0))\n",
    "    z=tau/math.sqrt(svar)\n",
    "    prob=erfcc(abs(z)/1.4142136)\n",
    "    \n",
    "    return [tau,z,prob]"
   ]
  },
  {
   "cell_type": "markdown",
   "metadata": {},
   "source": [
    "## Two-Dimensional K-S"
   ]
  },
  {
   "cell_type": "code",
   "execution_count": 77,
   "metadata": {
    "collapsed": false
   },
   "outputs": [],
   "source": [
    "def ks2d1s(x1,y1,quadvl):\n",
    "    \"\"\"Two-dimensional Kolmogorov-Smirnov test of one sample against a model. Given the x and\n",
    "    y coordinates of n1 data points in arrays x1[0..n1-1] and y1[0..n1-1], and given a user-\n",
    "    supplied function quadvl that exemplifies the model, this routine returns the two-dimensional\n",
    "    K-S statistic as d1, and its p-value as prob, all as an array. Small values of prob show that\n",
    "    the sample is significantly different from the model. Note that the test is slightly distribution-\n",
    "    dependent, so prob is only an estimate.\n",
    "    \"\"\"\n",
    "    d1=prob=0.0\n",
    "    n1=len(x1)\n",
    "    r1=dum=dumm=0.0\n",
    "    ks = KSdist()\n",
    "    for j in xrange(n1):\n",
    "        [fa,fb,fc,fd] = quadct(x1[j],y1[j],x1,y1)\n",
    "        [ga,gb,gc,gd] = quadvl(x1[j],y1[j])\n",
    "        if(fa>ga): fa += 1.0/n1\n",
    "        if(fb>gb): fb += 1.0/n1\n",
    "        if(fc>gc): fc += 1.0/n1\n",
    "        if(fd>gd): fd += 1.0/n1\n",
    "        d1 = max(d1,abs(fa-ga))\n",
    "        d1 = max(d1,abs(fb-gb))\n",
    "        d1 = max(d1,abs(fc-gc))\n",
    "        d1 = max(d1,abs(fd-gd))\n",
    "    [r1,dum,dumm] = pearsn(x1,y1)\n",
    "    sqen = math.sqrt(n1)\n",
    "    rr=math.sqrt(1.0-r1*r1)\n",
    "    prob = ks.qks(d1*sqen/(1.0+rr*(0.25-0.75/sqen)))\n",
    "    \n",
    "    return [d1,prob]"
   ]
  },
  {
   "cell_type": "code",
   "execution_count": 76,
   "metadata": {
    "collapsed": false
   },
   "outputs": [],
   "source": [
    "def quadct(x,y,xx,yy):\n",
    "    \"\"\"Given an origin (x,y), and an array of nn points with coordinates\n",
    "    xx[0..nn-1] and yy[0..nn-1], count how many of them are in each\n",
    "    quadrant around the origin, and return the normalized fractions.\n",
    "    Quadrants are labeled alphabetically, a counterclockwise from the \n",
    "    upper right. Used by ks2d1s and ks2d2s.\n",
    "    \"\"\"\n",
    "    na=nb=nc=nd=0\n",
    "    nn = len(xx)\n",
    "    for k in xrange(nn):\n",
    "        if(yy[k]==y and xx[k]==x): continue\n",
    "        if(yy[k]>y):\n",
    "            if(xx[k]>x): na += 1\n",
    "            else: nb += 1\n",
    "        else:\n",
    "            if(xx[k]>x): nd += 1\n",
    "            else: nc += 1\n",
    "    ff=1.0/nn\n",
    "    return [ff*na,ff*nb,ff*nc,ff*nd]"
   ]
  },
  {
   "cell_type": "code",
   "execution_count": 79,
   "metadata": {
    "collapsed": false
   },
   "outputs": [],
   "source": [
    "def quadvl(x,y):\n",
    "    \"\"\"This is a sample of a user-supplied routine to be used with ks2d1s.\n",
    "    In this case, the model distribution is uniform inside the square.\n",
    "    \"\"\"\n",
    "    qa=min(2.0,max(0.0,1.0-x))\n",
    "    qb=min(2.0,max(0.0,1.0-y))\n",
    "    qc=min(2.0,max(0.0,x+1.0))\n",
    "    qd=min(2.0,max(0.0,y+1.0))\n",
    "    fa=0.25*qa*qb\n",
    "    fb=0.25*qb*qc\n",
    "    fc=0.25*qc*qd\n",
    "    fd=0.25*qd*qa\n",
    "    \n",
    "    return [fa,fb,fc,fd]"
   ]
  },
  {
   "cell_type": "code",
   "execution_count": 80,
   "metadata": {
    "collapsed": false
   },
   "outputs": [],
   "source": [
    "def ks2d2s(x1,y1,x2,y2):\n",
    "    \"\"\"Two-dimensional Kolmogorow-Smirnov test on two sampls. Given the x\n",
    "    and y coordinates of the first sample as n1 values in arrays x1[0..n1-1]\n",
    "    and y1[0..n1-1], and likewise for the second sample, n2 values in arrays\n",
    "    x2 and y2, this routine returns the two-dimensional, two-sample K-S \n",
    "    statistic as d, and its p-value as prob, all as an array. Small values \n",
    "    of prob show that the two samples are significantly different. Note that\n",
    "    the test is slightly distribution-dependent, so prob is only an estimate.\n",
    "    \"\"\"\n",
    "    n1=len(x1)\n",
    "    n2=len(x2)\n",
    "    r1=r2=rr=dum=dumm=0.0\n",
    "    ks = KSdist()\n",
    "    d1=0.0\n",
    "    for j in xrange(n1):\n",
    "        [fa,fb,fc,fd] = quadct(x1[j],y1[j],x1,y1)\n",
    "        [ga,gb,gc,gd] = quadct(x1[j],y1[j],x2,y2)\n",
    "        if(fa>ga): fa += 1.0/n1\n",
    "        if(fb>gb): fb += 1.0/n1\n",
    "        if(fc>gc): fc += 1.0/n1\n",
    "        if(fd>gd): fd += 1.0/n1\n",
    "        d1 = max(d1,abs(fa-ga))\n",
    "        d1 = max(d1,abs(fb-gb))\n",
    "        d1 = max(d1,abs(fc-gc))\n",
    "        d1 = max(d1,abs(fd-gd))\n",
    "    d2=0.0\n",
    "    for j in xrange(n2):\n",
    "        [fa,fb,fc,fd] = quadct(x2[j],y2[j],x1,y1)\n",
    "        [ga,gb,gc,gd] = quadct(x2[j],y2[j],x2,y2)\n",
    "        if(ga>fa): ga += 1.0/n1\n",
    "        if(gb>fb): gb += 1.0/n1\n",
    "        if(gc>fc): gc += 1.0/n1\n",
    "        if(gd>fd): gd += 1.0/n1\n",
    "        d2 = max(d2,abs(fa-ga))\n",
    "        d2 = max(d2,abs(fb-gb))\n",
    "        d2 = max(d2,abs(fc-gc))\n",
    "        d2 = max(d2,abs(fd-gd))\n",
    "    d=0.5*(d1+d2)\n",
    "    sqen=math.sqrt(n1*n2/float(n1+n2))\n",
    "    [r1,dum,dumm] = pearsn(x1,y1)\n",
    "    [r2,dum,dumm] = pearsn(x2,y2)\n",
    "    rr = math.sqrt(1.0-0.5*(r1*r1+r2*r2))\n",
    "    prob=ks.qks(d*sqen/(1.0+rr*(0.25-0.75/sqen)))\n",
    "            "
   ]
  },
  {
   "cell_type": "markdown",
   "metadata": {},
   "source": [
    "## Savitzky-Golay Smoothing Filters\n",
    "\n",
    "I'm not going to implement this algorithm yet but I will write it out."
   ]
  },
  {
   "cell_type": "code",
   "execution_count": 91,
   "metadata": {
    "collapsed": false
   },
   "outputs": [],
   "source": [
    "def savgol(cc,np,nl,nr,ld,m):\n",
    "    \"\"\"Returns in c[0..np-1], in wraparound order (N.B.!) consistent with the\n",
    "    argument respns in routine convlv, a set of Savitzky-Golay filter \n",
    "    coefficients. nl is the number of leftward (past) data points used,\n",
    "    while nr is the number of rightward (future) data points, making the \n",
    "    total number of points used nl + nr + 1. ld is the order of the\n",
    "    derivative desired (e.g., ld = 0 for smoothed funciton. For the \n",
    "    derivative of k, you must mulitply the array c by k!.) m is the order\n",
    "    of the smoothing polynomial, also equal to the highest conserved\n",
    "    moment; usual values are m = 2 or m = 4.\n",
    "    \"\"\"\n",
    "    c = list(cc) # make a copy of cc\n",
    "    j=k=imj=ipj=kk=mm=0\n",
    "    fac=summ=0.0\n",
    "    if( np<nl+nr+1 or nl<0 or nr<0 or ld>m or nl+nr<m ):\n",
    "        raise Exception(\"bad args in savgol\")\n",
    "    \n",
    "    a = [ [0.0 for x in xrange(m+1)] for y in xrange(m+1)]\n",
    "    b = [ 0.0 for x in xrange(m+1)]\n",
    "    for ipj in xrange((m << 1)+1):\n",
    "        if(not ipj == 0): summ = 0.0\n",
    "        else: summ = 1.0\n",
    "        for k in xrange(1,nr+1): summ += (float(k)**float(ipj))\n",
    "        for k in xrange(1,nl+1): summ += ((-floa(k))**float(ipj))\n",
    "        mm=min(ipj,2*m-ipj)\n",
    "        for imj in xrange(-mm,mm+1,2):\n",
    "            a[(ipj+imj)/2][(ipj-imj)/2]=summ\n",
    "    alud = LUdcmp(a)\n",
    "    for j in xrange(m+1): b[j]=0.0\n",
    "    b[ld]=1.0\n",
    "    alud.solve(b,b)\n",
    "    for kk in xrange(np):\n",
    "        c[kk]=0.0\n",
    "    for k in xrange(-nl,nr+1):\n",
    "        summ=b[0]\n",
    "        fac=1.0\n",
    "        for mm in xrange(1,m+1):\n",
    "            fac *= k\n",
    "            summ += b[mm]*fac\n",
    "        kk=(np-k)%np\n",
    "        c[kk]=summ\n",
    "    \n",
    "    return c"
   ]
  },
  {
   "cell_type": "code",
   "execution_count": null,
   "metadata": {
    "collapsed": false
   },
   "outputs": [],
   "source": []
  }
 ],
 "metadata": {
  "anaconda-cloud": {},
  "kernelspec": {
   "display_name": "Python [Root]",
   "language": "python",
   "name": "Python [Root]"
  }
 },
 "nbformat": 4,
 "nbformat_minor": 0
}
